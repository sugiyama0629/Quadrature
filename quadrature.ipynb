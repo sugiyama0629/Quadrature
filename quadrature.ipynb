{
 "cells": [
  {
   "cell_type": "code",
   "execution_count": null,
   "id": "ee1d2e46",
   "metadata": {},
   "outputs": [],
   "source": [
    "1+1"
   ]
  },
  {
   "cell_type": "code",
   "execution_count": null,
   "id": "ebf08423",
   "metadata": {},
   "outputs": [],
   "source": [
    "using Pkg"
   ]
  },
  {
   "cell_type": "code",
   "execution_count": null,
   "id": "b56bad20",
   "metadata": {},
   "outputs": [
    {
     "name": "stderr",
     "output_type": "stream",
     "text": [
      "\u001b[32m\u001b[1m  Activating\u001b[22m\u001b[39m project at `~/day1/Quadrature`\n"
     ]
    }
   ],
   "source": [
    "Pkg.activate(\".\")  #プロジェクトを有効化(\".\"は現在地)"
   ]
  },
  {
   "cell_type": "code",
   "execution_count": 6,
   "id": "da4bcc8b",
   "metadata": {},
   "outputs": [],
   "source": [
    "using FastGaussQuadrature, LinearAlgebra"
   ]
  },
  {
   "cell_type": "code",
   "execution_count": 7,
   "id": "738870a4",
   "metadata": {},
   "outputs": [
    {
     "data": {
      "text/plain": [
       "([-0.7745966692414834, 0.0, 0.7745966692414834], [0.5555555555555556, 0.8888888888888888, 0.5555555555555556])"
      ]
     },
     "metadata": {},
     "output_type": "display_data"
    }
   ],
   "source": [
    "x, w = gausslegendre(3)"
   ]
  },
  {
   "cell_type": "code",
   "execution_count": 8,
   "id": "09e11110",
   "metadata": {},
   "outputs": [
    {
     "data": {
      "text/plain": [
       "f (generic function with 1 method)"
      ]
     },
     "metadata": {},
     "output_type": "display_data"
    }
   ],
   "source": [
    "f(x) = x^4"
   ]
  },
  {
   "cell_type": "code",
   "execution_count": 9,
   "id": "2eebd965",
   "metadata": {},
   "outputs": [
    {
     "data": {
      "text/plain": [
       "0.4000000000000001"
      ]
     },
     "metadata": {},
     "output_type": "display_data"
    }
   ],
   "source": [
    "I = dot(w, f.(x))"
   ]
  },
  {
   "cell_type": "code",
   "execution_count": null,
   "id": "7c9ed64d",
   "metadata": {},
   "outputs": [],
   "source": [
    "using FastGaussQuadrature\n",
    "\n",
    "# 積分点の数を指定（多いほど高精度）\n",
    "n = 100\n",
    "\n",
    "# ガウス・ルジャンドルの点と重みを取得\n",
    "x, w = gausslegendre(n)\n",
    "\n",
    "# 被積分関数\n",
    "f(x) = sqrt(1 - x^2)\n",
    "\n",
    "# 積分の計算\n",
    "integral = sum(w .* f.(x))\n",
    "\n",
    "println(\"結果: \", integral)\n",
    "println(\"理論値: \", π/2)\n",
    "println(\"誤差: \", abs(integral - π/2))"
   ]
  },
  {
   "cell_type": "code",
   "execution_count": null,
   "id": "ab3fbd3b",
   "metadata": {},
   "outputs": [],
   "source": [
    "1 + 1"
   ]
  },
  {
   "cell_type": "code",
   "execution_count": null,
   "id": "0e01fb58",
   "metadata": {},
   "outputs": [],
   "source": []
  }
 ],
 "metadata": {
  "kernelspec": {
   "display_name": "Julia 1.11.4",
   "language": "julia",
   "name": "julia-1.11"
  },
  "language_info": {
   "file_extension": ".jl",
   "mimetype": "application/julia",
   "name": "julia",
   "version": "1.11.4"
  }
 },
 "nbformat": 4,
 "nbformat_minor": 5
}
